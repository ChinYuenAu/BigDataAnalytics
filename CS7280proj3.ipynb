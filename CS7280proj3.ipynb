{
  "nbformat": 4,
  "nbformat_minor": 0,
  "metadata": {
    "colab": {
      "provenance": [],
      "collapsed_sections": [
        "2fjWwcXiUmQP",
        "K7e2gCMNS_4t"
      ],
      "include_colab_link": true
    },
    "kernelspec": {
      "name": "python3",
      "display_name": "Python 3"
    },
    "language_info": {
      "name": "python"
    }
  },
  "cells": [
    {
      "cell_type": "markdown",
      "metadata": {
        "id": "view-in-github",
        "colab_type": "text"
      },
      "source": [
        "<a href=\"https://colab.research.google.com/github/ChinYuenAu/BigDataAnalytics/blob/main/CS7280proj3.ipynb\" target=\"_parent\"><img src=\"https://colab.research.google.com/assets/colab-badge.svg\" alt=\"Open In Colab\"/></a>"
      ]
    },
    {
      "cell_type": "markdown",
      "source": [
        "# Download dataset from kaggle"
      ],
      "metadata": {
        "id": "AvyUcfqBS6f8"
      }
    },
    {
      "cell_type": "markdown",
      "source": [
        "## feel free to skip this step\n",
        "### By obtaining csv file from https://storage.googleapis.com/cs7280-proj3/redfin.csv instead. This saves time from downloading the data again."
      ],
      "metadata": {
        "id": "2fjWwcXiUmQP"
      }
    },
    {
      "cell_type": "code",
      "source": [
        "!pip install kaggle"
      ],
      "metadata": {
        "id": "Dg5-LQ_xCxDZ"
      },
      "execution_count": null,
      "outputs": []
    },
    {
      "cell_type": "code",
      "source": [
        "from google.colab import drive\n",
        "drive.mount('/content/drive')"
      ],
      "metadata": {
        "id": "_OhJJtO1C9mN"
      },
      "execution_count": null,
      "outputs": []
    },
    {
      "cell_type": "code",
      "source": [
        "!mkdir ~/.kaggle"
      ],
      "metadata": {
        "id": "XhdzIWleDOSh"
      },
      "execution_count": null,
      "outputs": []
    },
    {
      "cell_type": "code",
      "source": [
        "!cp /content/drive/MyDrive/kaggle.json ~/.kaggle/"
      ],
      "metadata": {
        "id": "tJhatzNlGyXm"
      },
      "execution_count": null,
      "outputs": []
    },
    {
      "cell_type": "code",
      "execution_count": null,
      "metadata": {
        "id": "jX25Wwhc3o00"
      },
      "outputs": [],
      "source": [
        "# Step 4: Set appropriate permissions for the Kaggle API token\n",
        "!chmod 600 ~/.kaggle/kaggle.json"
      ]
    },
    {
      "cell_type": "code",
      "source": [
        "# Step 5: Download the dataset\n",
        "!kaggle datasets download -d vincentvaseghi/us-cities-housing-market-data"
      ],
      "metadata": {
        "id": "-XUv0qA34w7k"
      },
      "execution_count": null,
      "outputs": []
    },
    {
      "cell_type": "code",
      "source": [
        "# Step 6: Unzip the dataset\n",
        "!unzip us-cities-housing-market-data.zip"
      ],
      "metadata": {
        "id": "AsfulcPb4wAu"
      },
      "execution_count": null,
      "outputs": []
    },
    {
      "cell_type": "markdown",
      "source": [
        "## Convert tsv file to csv file format"
      ],
      "metadata": {
        "id": "K7e2gCMNS_4t"
      }
    },
    {
      "cell_type": "code",
      "source": [
        "# Step 7: Import necessary libraries\n",
        "import pandas as pd"
      ],
      "metadata": {
        "id": "iVC1Exi0ILFu"
      },
      "execution_count": null,
      "outputs": []
    },
    {
      "cell_type": "code",
      "source": [
        "csv_table = pd.read_table('city_market_tracker.tsv000', sep='\\t')"
      ],
      "metadata": {
        "id": "HpjezItfIL5S"
      },
      "execution_count": null,
      "outputs": []
    },
    {
      "cell_type": "code",
      "source": [
        "csv_table.to_csv('redfin.csv', index=False)"
      ],
      "metadata": {
        "id": "khODmejWIfi-"
      },
      "execution_count": null,
      "outputs": []
    },
    {
      "cell_type": "code",
      "source": [
        "import os\n",
        "print(os.getcwd())"
      ],
      "metadata": {
        "id": "jqlI8YjRKcyZ"
      },
      "execution_count": null,
      "outputs": []
    },
    {
      "cell_type": "code",
      "source": [
        "!mv redfin.csv /content/drive/MyDrive"
      ],
      "metadata": {
        "id": "hb8n5j6pK4X2"
      },
      "execution_count": null,
      "outputs": []
    },
    {
      "cell_type": "markdown",
      "source": [
        "# Install Pyspark and appropriate files"
      ],
      "metadata": {
        "id": "zdqukOfCTM_J"
      }
    },
    {
      "cell_type": "code",
      "source": [
        "#@title Install all the appropriate packages\n",
        "\n",
        "!pip install pyspark\n",
        "!pip install -U -q PyDrive\n",
        "!apt install openjdk-8-jdk-headless -qq"
      ],
      "metadata": {
        "id": "U_Z_u2HlRbQG"
      },
      "execution_count": null,
      "outputs": []
    },
    {
      "cell_type": "code",
      "source": [
        "#@title Import and create Spark Context\n",
        "\n",
        "# Let's import the libraries we will need\n",
        "import itertools\n",
        "\n",
        "import pyspark\n",
        "from pyspark.sql import *\n",
        "from pyspark.sql.functions import *\n",
        "from pyspark import SparkContext, SparkConf\n",
        "import os\n",
        "os.environ[\"JAVA_HOME\"] = \"/usr/lib/jvm/java-8-openjdk-amd64\"\n",
        "\n",
        "# create the session\n",
        "conf = SparkConf().set(\"spark.ui.port\", \"4050\")\n",
        "\n",
        "# create the context\n",
        "sc = pyspark.SparkContext(conf=conf)\n",
        "spark = SparkSession.builder.getOrCreate()"
      ],
      "metadata": {
        "id": "REUk4qoeY6Ng"
      },
      "execution_count": null,
      "outputs": []
    },
    {
      "cell_type": "code",
      "source": [
        "from pyspark import SparkFiles"
      ],
      "metadata": {
        "id": "yn1lHhEWc6ka"
      },
      "execution_count": null,
      "outputs": []
    },
    {
      "cell_type": "code",
      "source": [
        "from pyspark.sql.functions import year, col"
      ],
      "metadata": {
        "id": "QvhWVLZDh5Wo"
      },
      "execution_count": null,
      "outputs": []
    },
    {
      "cell_type": "code",
      "source": [
        "# URL of the CSV file\n",
        "url = \"https://storage.googleapis.com/cs7280-proj3/redfin.csv\""
      ],
      "metadata": {
        "id": "7BCMG23ic9Ht"
      },
      "execution_count": null,
      "outputs": []
    },
    {
      "cell_type": "code",
      "source": [
        "sc.addFile(url)"
      ],
      "metadata": {
        "id": "rqAm_KEyc_zk"
      },
      "execution_count": null,
      "outputs": []
    },
    {
      "cell_type": "code",
      "source": [
        "path = SparkFiles.get(\"redfin.csv\")"
      ],
      "metadata": {
        "id": "hXCnhAB6dB0Q"
      },
      "execution_count": null,
      "outputs": []
    },
    {
      "cell_type": "code",
      "source": [
        "df = spark.read.csv(\"file://\"+ path, header=True, inferSchema=True)"
      ],
      "metadata": {
        "id": "guUqqgANWDYp"
      },
      "execution_count": null,
      "outputs": []
    },
    {
      "cell_type": "code",
      "source": [
        "df.show()"
      ],
      "metadata": {
        "id": "cS_yhxe-diDo"
      },
      "execution_count": null,
      "outputs": []
    },
    {
      "cell_type": "code",
      "source": [
        "distinct_states_df = df.select(col(\"state\"), col(\"state_code\")).distinct()"
      ],
      "metadata": {
        "id": "JbQJuQ3A5lhx"
      },
      "execution_count": null,
      "outputs": []
    },
    {
      "cell_type": "code",
      "source": [
        "distinct_states_df.show(distinct_states_df.count(), truncate=False)"
      ],
      "metadata": {
        "id": "1l9cNaUR5vcA"
      },
      "execution_count": null,
      "outputs": []
    },
    {
      "cell_type": "code",
      "source": [
        "sold_inventory = df.select(year(\"period_begin\").alias(\"year\"), \"homes_sold\", \"inventory\", \"state\")"
      ],
      "metadata": {
        "id": "gYhOdgxeVDE5"
      },
      "execution_count": null,
      "outputs": []
    },
    {
      "cell_type": "code",
      "source": [
        "sold_inventory = sold_inventory.withColumn(\"difference\", col(\"inventory\") - col(\"homes_sold\"))"
      ],
      "metadata": {
        "id": "jb--aniunDCt"
      },
      "execution_count": null,
      "outputs": []
    },
    {
      "cell_type": "code",
      "source": [
        "sold_inventory = sold_inventory.na.drop(subset=[\"difference\"])"
      ],
      "metadata": {
        "id": "TVGo2ClIp94c"
      },
      "execution_count": null,
      "outputs": []
    },
    {
      "cell_type": "code",
      "source": [
        "sold_inventory.show()"
      ],
      "metadata": {
        "id": "G7CoWwx8mzq-"
      },
      "execution_count": null,
      "outputs": []
    },
    {
      "cell_type": "code",
      "source": [
        "sold_inventory = sold_inventory.rdd"
      ],
      "metadata": {
        "id": "2DbOvUHfo18K"
      },
      "execution_count": null,
      "outputs": []
    },
    {
      "cell_type": "code",
      "source": [
        "sold_inventory.take(5)"
      ],
      "metadata": {
        "id": "IOezXFFQqldC"
      },
      "execution_count": null,
      "outputs": []
    },
    {
      "cell_type": "code",
      "source": [
        "# sort by year and sort by differences\n",
        "sorted_sold_inventory = sold_inventory.sortBy(lambda x: (x[0], -x[4]))"
      ],
      "metadata": {
        "id": "Swij0_LPpQRZ"
      },
      "execution_count": null,
      "outputs": []
    },
    {
      "cell_type": "code",
      "source": [
        "sorted_sold_inventory.take(5)"
      ],
      "metadata": {
        "id": "wlpB3b2EpYT9"
      },
      "execution_count": null,
      "outputs": []
    },
    {
      "cell_type": "code",
      "source": [
        "grouped_by_year_state = sorted_sold_inventory.map(lambda x: ((x[0], x[3]), (x[4], 1))).reduceByKey(lambda x, y: (x[0]+y[0], x[1] + y[1])).mapValues(lambda x: (x[0] / x[1])).map(lambda x:( x[0][0], x[0][1],x[1]))"
      ],
      "metadata": {
        "id": "EKTcy8yZrnMi"
      },
      "execution_count": null,
      "outputs": []
    },
    {
      "cell_type": "code",
      "source": [
        "grouped_by_year_state.take(10)"
      ],
      "metadata": {
        "id": "2zCFuVLRtb9b"
      },
      "execution_count": null,
      "outputs": []
    },
    {
      "cell_type": "code",
      "source": [
        "# Take the top 5 differences for each year\n",
        "top_5_by_year = grouped_by_year_state.groupBy(lambda x: x[0]).flatMapValues(lambda x: sorted(x, key=lambda y: -y[2])[:5]).map(lambda x: (x[0], x[1][1], x[1][2]))"
      ],
      "metadata": {
        "id": "JFL-DWRz28lz"
      },
      "execution_count": null,
      "outputs": []
    },
    {
      "cell_type": "code",
      "source": [
        "top_5_by_year.collect()"
      ],
      "metadata": {
        "id": "gudLN6gT2_Qp"
      },
      "execution_count": null,
      "outputs": []
    },
    {
      "cell_type": "code",
      "source": [
        "# Take the bottom 5 differences for each year\n",
        "bottom_5_by_year = grouped_by_year_state.groupBy(lambda x: x[0]).flatMapValues(lambda x: sorted(x, key=lambda y: -y[2])[-5:-1]).map(lambda x: (x[0], x[1][1], x[1][2]))"
      ],
      "metadata": {
        "id": "8aIdZgMo9jqA"
      },
      "execution_count": null,
      "outputs": []
    },
    {
      "cell_type": "code",
      "source": [],
      "metadata": {
        "id": "DuBJtXF19tj5"
      },
      "execution_count": null,
      "outputs": []
    },
    {
      "cell_type": "code",
      "source": [
        "# import matplotlib.pyplot as plt\n",
        "\n",
        "# # Collect the data from the RDD\n",
        "# data = top_5_by_year.collect()\n",
        "\n",
        "# # Prepare data for plotting\n",
        "# years = [row[0] for row in data]\n",
        "# states = [row[1] for row in data]\n",
        "# differences = [row[2] for row in data]\n",
        "\n",
        "# # Plotting\n",
        "# plt.figure(figsize=(10, 6))\n",
        "\n",
        "# # Create a color map for states\n",
        "# cmap = plt.get_cmap('tab10')\n",
        "\n",
        "# # Iterate over each unique state and plot its differences for each year\n",
        "# for i, state in enumerate(sorted(set(states))):\n",
        "#     state_data = [data[j] for j in range(len(data)) if data[j][1] == state]\n",
        "#     years = [row[0] for row in state_data]\n",
        "#     differences = [row[2] for row in state_data]\n",
        "#     plt.scatter(years, differences, label=state, color=cmap(i))\n",
        "\n",
        "# plt.title('Top 5 Differences for Each Year (Color-coded by State)')\n",
        "# plt.xlabel('Year')\n",
        "# plt.ylabel('Difference')\n",
        "# plt.xticks(rotation=45)\n",
        "# plt.legend(title='State', loc='upper left')\n",
        "# plt.tight_layout()\n",
        "# plt.show()"
      ],
      "metadata": {
        "id": "XElKv8_Z70Ui"
      },
      "execution_count": null,
      "outputs": []
    },
    {
      "cell_type": "code",
      "source": [
        "import matplotlib.pyplot as plt\n",
        "import pandas as pd\n",
        "\n",
        "# Define your data\n",
        "data = top_5_by_year.collect()\n",
        "\n",
        "# Create DataFrame\n",
        "df = pd.DataFrame(data, columns=['Year', 'State', 'Value'])\n",
        "\n",
        "# Pivot the data to have states as columns and years as rows\n",
        "pivot_df = df.pivot(index='Year', columns='State', values='Value')\n",
        "\n",
        "# Rank the values in descending order (1 = highest value)\n",
        "ranked_df = pivot_df.rank(axis=1, ascending=False, method='first')\n",
        "\n",
        "# Plotting\n",
        "fig, ax = plt.subplots(figsize=(15, 10))\n",
        "colors = plt.get_cmap('tab10')\n",
        "\n",
        "for column in ranked_df.columns:\n",
        "    line, = ax.plot(ranked_df.index, ranked_df[column], label=column, marker='o', color=colors(ranked_df.columns.tolist().index(column) / len(ranked_df.columns)))\n",
        "    for idx in ranked_df.index:\n",
        "        ax.annotate(f'{pivot_df.at[idx, column]:.0f}',\n",
        "                    xy=(idx, ranked_df.at[idx, column]),\n",
        "                    textcoords=\"offset points\",\n",
        "                    xytext=(0, 5),\n",
        "                    ha='center',\n",
        "                    fontsize=10,\n",
        "                    color=line.get_color())\n",
        "\n",
        "ax.set_xlabel('Year')\n",
        "ax.set_ylabel('Rank')\n",
        "ax.set_title('Top five states with biggest inventory surplus from 2012 to 2024', pad=10, fontsize=22)\n",
        "ax.invert_yaxis()  # Invert y axis so that rank 1 is at the top\n",
        "ax.legend(title='State')\n",
        "\n",
        "# Set y-axis to show only integer ticks\n",
        "ax.yaxis.set_major_locator(plt.MaxNLocator(integer=True))\n",
        "\n",
        "plt.show()"
      ],
      "metadata": {
        "id": "ktqJJlPTZ34a"
      },
      "execution_count": null,
      "outputs": []
    },
    {
      "cell_type": "code",
      "source": [
        "import matplotlib.pyplot as plt\n",
        "import pandas as pd\n",
        "\n",
        "# Define your data\n",
        "data = bottom_5_by_year.collect()\n",
        "\n",
        "# Create DataFrame\n",
        "df = pd.DataFrame(data, columns=['Year', 'State', 'Value'])\n",
        "\n",
        "# Pivot the data to have states as columns and years as rows\n",
        "pivot_df = df.pivot(index='Year', columns='State', values='Value')\n",
        "\n",
        "# Rank the values in descending order (1 = highest value)\n",
        "ranked_df = pivot_df.rank(axis=1, ascending=False, method='first')\n",
        "\n",
        "# Plotting\n",
        "fig, ax = plt.subplots(figsize=(15, 10))\n",
        "colors = plt.get_cmap('tab10')\n",
        "\n",
        "for column in ranked_df.columns:\n",
        "    line, = ax.plot(ranked_df.index, ranked_df[column], label=column, marker='o', color=colors(ranked_df.columns.tolist().index(column) / len(ranked_df.columns)))\n",
        "    for idx in ranked_df.index:\n",
        "        ax.annotate(f'{pivot_df.at[idx, column]:.0f}',\n",
        "                    xy=(idx, ranked_df.at[idx, column]),\n",
        "                    textcoords=\"offset points\",\n",
        "                    xytext=(0, 5),\n",
        "                    ha='center',\n",
        "                    fontsize=10,\n",
        "                    color=line.get_color())\n",
        "\n",
        "ax.set_xlabel('Year')\n",
        "ax.set_ylabel('Rank')\n",
        "ax.set_title('Top five states with biggest inventory surplus from 2012 to 2024', pad=10, fontsize=22)\n",
        "ax.invert_yaxis()  # Invert y axis so that rank 1 is at the top\n",
        "ax.legend(title='State', loc='upper left')\n",
        "\n",
        "# Set y-axis to show only integer ticks\n",
        "ax.yaxis.set_major_locator(plt.MaxNLocator(integer=True))\n",
        "\n",
        "plt.show()"
      ],
      "metadata": {
        "id": "C9jcJRVt96kT"
      },
      "execution_count": null,
      "outputs": []
    },
    {
      "cell_type": "code",
      "source": [
        "spark.stop()"
      ],
      "metadata": {
        "id": "jxicwcSNgh1A"
      },
      "execution_count": null,
      "outputs": []
    }
  ]
}