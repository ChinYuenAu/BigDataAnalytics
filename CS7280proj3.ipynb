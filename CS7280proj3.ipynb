{
  "nbformat": 4,
  "nbformat_minor": 0,
  "metadata": {
    "colab": {
      "provenance": [],
      "collapsed_sections": [
        "2fjWwcXiUmQP",
        "K7e2gCMNS_4t"
      ],
      "include_colab_link": true
    },
    "kernelspec": {
      "name": "python3",
      "display_name": "Python 3"
    },
    "language_info": {
      "name": "python"
    }
  },
  "cells": [
    {
      "cell_type": "markdown",
      "metadata": {
        "id": "view-in-github",
        "colab_type": "text"
      },
      "source": [
        "<a href=\"https://colab.research.google.com/github/ChinYuenAu/BigDataAnalytics/blob/main/CS7280proj3.ipynb\" target=\"_parent\"><img src=\"https://colab.research.google.com/assets/colab-badge.svg\" alt=\"Open In Colab\"/></a>"
      ]
    },
    {
      "cell_type": "markdown",
      "source": [
        "# Download dataset from kaggle"
      ],
      "metadata": {
        "id": "AvyUcfqBS6f8"
      }
    },
    {
      "cell_type": "markdown",
      "source": [
        "## feel free to skip this step\n",
        "### By obtaining csv file from https://storage.googleapis.com/cs7280-proj3/redfin.csv instead. This saves time from downloading the data again."
      ],
      "metadata": {
        "id": "2fjWwcXiUmQP"
      }
    },
    {
      "cell_type": "code",
      "source": [
        "!pip install kaggle"
      ],
      "metadata": {
        "id": "Dg5-LQ_xCxDZ",
        "colab": {
          "base_uri": "https://localhost:8080/"
        },
        "outputId": "2acb6148-24ec-4b4e-bd6c-69c63e8650d9"
      },
      "execution_count": null,
      "outputs": [
        {
          "output_type": "stream",
          "name": "stdout",
          "text": [
            "Requirement already satisfied: kaggle in /usr/local/lib/python3.10/dist-packages (1.5.16)\n",
            "Requirement already satisfied: six>=1.10 in /usr/local/lib/python3.10/dist-packages (from kaggle) (1.16.0)\n",
            "Requirement already satisfied: certifi in /usr/local/lib/python3.10/dist-packages (from kaggle) (2024.2.2)\n",
            "Requirement already satisfied: python-dateutil in /usr/local/lib/python3.10/dist-packages (from kaggle) (2.8.2)\n",
            "Requirement already satisfied: requests in /usr/local/lib/python3.10/dist-packages (from kaggle) (2.31.0)\n",
            "Requirement already satisfied: tqdm in /usr/local/lib/python3.10/dist-packages (from kaggle) (4.66.2)\n",
            "Requirement already satisfied: python-slugify in /usr/local/lib/python3.10/dist-packages (from kaggle) (8.0.4)\n",
            "Requirement already satisfied: urllib3 in /usr/local/lib/python3.10/dist-packages (from kaggle) (2.0.7)\n",
            "Requirement already satisfied: bleach in /usr/local/lib/python3.10/dist-packages (from kaggle) (6.1.0)\n",
            "Requirement already satisfied: webencodings in /usr/local/lib/python3.10/dist-packages (from bleach->kaggle) (0.5.1)\n",
            "Requirement already satisfied: text-unidecode>=1.3 in /usr/local/lib/python3.10/dist-packages (from python-slugify->kaggle) (1.3)\n",
            "Requirement already satisfied: charset-normalizer<4,>=2 in /usr/local/lib/python3.10/dist-packages (from requests->kaggle) (3.3.2)\n",
            "Requirement already satisfied: idna<4,>=2.5 in /usr/local/lib/python3.10/dist-packages (from requests->kaggle) (3.6)\n"
          ]
        }
      ]
    },
    {
      "cell_type": "code",
      "source": [
        "from google.colab import drive\n",
        "drive.mount('/content/drive')"
      ],
      "metadata": {
        "id": "_OhJJtO1C9mN",
        "colab": {
          "base_uri": "https://localhost:8080/",
          "height": 304
        },
        "outputId": "29248662-2a86-4baa-9222-80aac1d64c19"
      },
      "execution_count": null,
      "outputs": [
        {
          "output_type": "error",
          "ename": "KeyboardInterrupt",
          "evalue": "",
          "traceback": [
            "\u001b[0;31m---------------------------------------------------------------------------\u001b[0m",
            "\u001b[0;31mKeyboardInterrupt\u001b[0m                         Traceback (most recent call last)",
            "\u001b[0;32m<ipython-input-10-d5df0069828e>\u001b[0m in \u001b[0;36m<cell line: 2>\u001b[0;34m()\u001b[0m\n\u001b[1;32m      1\u001b[0m \u001b[0;32mfrom\u001b[0m \u001b[0mgoogle\u001b[0m\u001b[0;34m.\u001b[0m\u001b[0mcolab\u001b[0m \u001b[0;32mimport\u001b[0m \u001b[0mdrive\u001b[0m\u001b[0;34m\u001b[0m\u001b[0;34m\u001b[0m\u001b[0m\n\u001b[0;32m----> 2\u001b[0;31m \u001b[0mdrive\u001b[0m\u001b[0;34m.\u001b[0m\u001b[0mmount\u001b[0m\u001b[0;34m(\u001b[0m\u001b[0;34m'/content/drive'\u001b[0m\u001b[0;34m)\u001b[0m\u001b[0;34m\u001b[0m\u001b[0;34m\u001b[0m\u001b[0m\n\u001b[0m",
            "\u001b[0;32m/usr/local/lib/python3.10/dist-packages/google/colab/drive.py\u001b[0m in \u001b[0;36mmount\u001b[0;34m(mountpoint, force_remount, timeout_ms, readonly)\u001b[0m\n\u001b[1;32m     98\u001b[0m \u001b[0;32mdef\u001b[0m \u001b[0mmount\u001b[0m\u001b[0;34m(\u001b[0m\u001b[0mmountpoint\u001b[0m\u001b[0;34m,\u001b[0m \u001b[0mforce_remount\u001b[0m\u001b[0;34m=\u001b[0m\u001b[0;32mFalse\u001b[0m\u001b[0;34m,\u001b[0m \u001b[0mtimeout_ms\u001b[0m\u001b[0;34m=\u001b[0m\u001b[0;36m120000\u001b[0m\u001b[0;34m,\u001b[0m \u001b[0mreadonly\u001b[0m\u001b[0;34m=\u001b[0m\u001b[0;32mFalse\u001b[0m\u001b[0;34m)\u001b[0m\u001b[0;34m:\u001b[0m\u001b[0;34m\u001b[0m\u001b[0;34m\u001b[0m\u001b[0m\n\u001b[1;32m     99\u001b[0m   \u001b[0;34m\"\"\"Mount your Google Drive at the specified mountpoint path.\"\"\"\u001b[0m\u001b[0;34m\u001b[0m\u001b[0;34m\u001b[0m\u001b[0m\n\u001b[0;32m--> 100\u001b[0;31m   return _mount(\n\u001b[0m\u001b[1;32m    101\u001b[0m       \u001b[0mmountpoint\u001b[0m\u001b[0;34m,\u001b[0m\u001b[0;34m\u001b[0m\u001b[0;34m\u001b[0m\u001b[0m\n\u001b[1;32m    102\u001b[0m       \u001b[0mforce_remount\u001b[0m\u001b[0;34m=\u001b[0m\u001b[0mforce_remount\u001b[0m\u001b[0;34m,\u001b[0m\u001b[0;34m\u001b[0m\u001b[0;34m\u001b[0m\u001b[0m\n",
            "\u001b[0;32m/usr/local/lib/python3.10/dist-packages/google/colab/drive.py\u001b[0m in \u001b[0;36m_mount\u001b[0;34m(mountpoint, force_remount, timeout_ms, ephemeral, readonly)\u001b[0m\n\u001b[1;32m    258\u001b[0m \u001b[0;34m\u001b[0m\u001b[0m\n\u001b[1;32m    259\u001b[0m   \u001b[0;32mwhile\u001b[0m \u001b[0;32mTrue\u001b[0m\u001b[0;34m:\u001b[0m\u001b[0;34m\u001b[0m\u001b[0;34m\u001b[0m\u001b[0m\n\u001b[0;32m--> 260\u001b[0;31m     case = d.expect([\n\u001b[0m\u001b[1;32m    261\u001b[0m         \u001b[0msuccess\u001b[0m\u001b[0;34m,\u001b[0m\u001b[0;34m\u001b[0m\u001b[0;34m\u001b[0m\u001b[0m\n\u001b[1;32m    262\u001b[0m         \u001b[0mprompt\u001b[0m\u001b[0;34m,\u001b[0m\u001b[0;34m\u001b[0m\u001b[0;34m\u001b[0m\u001b[0m\n",
            "\u001b[0;32m/usr/local/lib/python3.10/dist-packages/pexpect/spawnbase.py\u001b[0m in \u001b[0;36mexpect\u001b[0;34m(self, pattern, timeout, searchwindowsize, async_, **kw)\u001b[0m\n\u001b[1;32m    352\u001b[0m \u001b[0;34m\u001b[0m\u001b[0m\n\u001b[1;32m    353\u001b[0m         \u001b[0mcompiled_pattern_list\u001b[0m \u001b[0;34m=\u001b[0m \u001b[0mself\u001b[0m\u001b[0;34m.\u001b[0m\u001b[0mcompile_pattern_list\u001b[0m\u001b[0;34m(\u001b[0m\u001b[0mpattern\u001b[0m\u001b[0;34m)\u001b[0m\u001b[0;34m\u001b[0m\u001b[0;34m\u001b[0m\u001b[0m\n\u001b[0;32m--> 354\u001b[0;31m         return self.expect_list(compiled_pattern_list,\n\u001b[0m\u001b[1;32m    355\u001b[0m                 timeout, searchwindowsize, async_)\n\u001b[1;32m    356\u001b[0m \u001b[0;34m\u001b[0m\u001b[0m\n",
            "\u001b[0;32m/usr/local/lib/python3.10/dist-packages/pexpect/spawnbase.py\u001b[0m in \u001b[0;36mexpect_list\u001b[0;34m(self, pattern_list, timeout, searchwindowsize, async_, **kw)\u001b[0m\n\u001b[1;32m    381\u001b[0m             \u001b[0;32mreturn\u001b[0m \u001b[0mexpect_async\u001b[0m\u001b[0;34m(\u001b[0m\u001b[0mexp\u001b[0m\u001b[0;34m,\u001b[0m \u001b[0mtimeout\u001b[0m\u001b[0;34m)\u001b[0m\u001b[0;34m\u001b[0m\u001b[0;34m\u001b[0m\u001b[0m\n\u001b[1;32m    382\u001b[0m         \u001b[0;32melse\u001b[0m\u001b[0;34m:\u001b[0m\u001b[0;34m\u001b[0m\u001b[0;34m\u001b[0m\u001b[0m\n\u001b[0;32m--> 383\u001b[0;31m             \u001b[0;32mreturn\u001b[0m \u001b[0mexp\u001b[0m\u001b[0;34m.\u001b[0m\u001b[0mexpect_loop\u001b[0m\u001b[0;34m(\u001b[0m\u001b[0mtimeout\u001b[0m\u001b[0;34m)\u001b[0m\u001b[0;34m\u001b[0m\u001b[0;34m\u001b[0m\u001b[0m\n\u001b[0m\u001b[1;32m    384\u001b[0m \u001b[0;34m\u001b[0m\u001b[0m\n\u001b[1;32m    385\u001b[0m     def expect_exact(self, pattern_list, timeout=-1, searchwindowsize=-1,\n",
            "\u001b[0;32m/usr/local/lib/python3.10/dist-packages/pexpect/expect.py\u001b[0m in \u001b[0;36mexpect_loop\u001b[0;34m(self, timeout)\u001b[0m\n\u001b[1;32m    169\u001b[0m                 \u001b[0mincoming\u001b[0m \u001b[0;34m=\u001b[0m \u001b[0mspawn\u001b[0m\u001b[0;34m.\u001b[0m\u001b[0mread_nonblocking\u001b[0m\u001b[0;34m(\u001b[0m\u001b[0mspawn\u001b[0m\u001b[0;34m.\u001b[0m\u001b[0mmaxread\u001b[0m\u001b[0;34m,\u001b[0m \u001b[0mtimeout\u001b[0m\u001b[0;34m)\u001b[0m\u001b[0;34m\u001b[0m\u001b[0;34m\u001b[0m\u001b[0m\n\u001b[1;32m    170\u001b[0m                 \u001b[0;32mif\u001b[0m \u001b[0mself\u001b[0m\u001b[0;34m.\u001b[0m\u001b[0mspawn\u001b[0m\u001b[0;34m.\u001b[0m\u001b[0mdelayafterread\u001b[0m \u001b[0;32mis\u001b[0m \u001b[0;32mnot\u001b[0m \u001b[0;32mNone\u001b[0m\u001b[0;34m:\u001b[0m\u001b[0;34m\u001b[0m\u001b[0;34m\u001b[0m\u001b[0m\n\u001b[0;32m--> 171\u001b[0;31m                     \u001b[0mtime\u001b[0m\u001b[0;34m.\u001b[0m\u001b[0msleep\u001b[0m\u001b[0;34m(\u001b[0m\u001b[0mself\u001b[0m\u001b[0;34m.\u001b[0m\u001b[0mspawn\u001b[0m\u001b[0;34m.\u001b[0m\u001b[0mdelayafterread\u001b[0m\u001b[0;34m)\u001b[0m\u001b[0;34m\u001b[0m\u001b[0;34m\u001b[0m\u001b[0m\n\u001b[0m\u001b[1;32m    172\u001b[0m                 \u001b[0midx\u001b[0m \u001b[0;34m=\u001b[0m \u001b[0mself\u001b[0m\u001b[0;34m.\u001b[0m\u001b[0mnew_data\u001b[0m\u001b[0;34m(\u001b[0m\u001b[0mincoming\u001b[0m\u001b[0;34m)\u001b[0m\u001b[0;34m\u001b[0m\u001b[0;34m\u001b[0m\u001b[0m\n\u001b[1;32m    173\u001b[0m                 \u001b[0;31m# Keep reading until exception or return.\u001b[0m\u001b[0;34m\u001b[0m\u001b[0;34m\u001b[0m\u001b[0m\n",
            "\u001b[0;31mKeyboardInterrupt\u001b[0m: "
          ]
        }
      ]
    },
    {
      "cell_type": "code",
      "source": [
        "!mkdir ~/.kaggle"
      ],
      "metadata": {
        "id": "XhdzIWleDOSh"
      },
      "execution_count": null,
      "outputs": []
    },
    {
      "cell_type": "code",
      "source": [
        "!cp /content/drive/MyDrive/kaggle.json ~/.kaggle/"
      ],
      "metadata": {
        "id": "tJhatzNlGyXm"
      },
      "execution_count": null,
      "outputs": []
    },
    {
      "cell_type": "code",
      "execution_count": null,
      "metadata": {
        "id": "jX25Wwhc3o00"
      },
      "outputs": [],
      "source": [
        "# Step 4: Set appropriate permissions for the Kaggle API token\n",
        "!chmod 600 ~/.kaggle/kaggle.json"
      ]
    },
    {
      "cell_type": "code",
      "source": [
        "# Step 5: Download the dataset\n",
        "!kaggle datasets download -d vincentvaseghi/us-cities-housing-market-data"
      ],
      "metadata": {
        "id": "-XUv0qA34w7k"
      },
      "execution_count": null,
      "outputs": []
    },
    {
      "cell_type": "code",
      "source": [
        "# Step 6: Unzip the dataset\n",
        "!unzip us-cities-housing-market-data.zip"
      ],
      "metadata": {
        "id": "AsfulcPb4wAu"
      },
      "execution_count": null,
      "outputs": []
    },
    {
      "cell_type": "markdown",
      "source": [
        "## Convert tsv file to csv file format"
      ],
      "metadata": {
        "id": "K7e2gCMNS_4t"
      }
    },
    {
      "cell_type": "code",
      "source": [
        "# Step 7: Import necessary libraries\n",
        "import pandas as pd"
      ],
      "metadata": {
        "id": "iVC1Exi0ILFu"
      },
      "execution_count": null,
      "outputs": []
    },
    {
      "cell_type": "code",
      "source": [
        "csv_table = pd.read_table('city_market_tracker.tsv000', sep='\\t')"
      ],
      "metadata": {
        "id": "HpjezItfIL5S"
      },
      "execution_count": null,
      "outputs": []
    },
    {
      "cell_type": "code",
      "source": [
        "csv_table.to_csv('redfin.csv', index=False)"
      ],
      "metadata": {
        "id": "khODmejWIfi-"
      },
      "execution_count": null,
      "outputs": []
    },
    {
      "cell_type": "code",
      "source": [
        "import os\n",
        "print(os.getcwd())"
      ],
      "metadata": {
        "id": "jqlI8YjRKcyZ"
      },
      "execution_count": null,
      "outputs": []
    },
    {
      "cell_type": "code",
      "source": [
        "!mv redfin.csv /content/drive/MyDrive"
      ],
      "metadata": {
        "id": "hb8n5j6pK4X2"
      },
      "execution_count": null,
      "outputs": []
    },
    {
      "cell_type": "markdown",
      "source": [
        "# Install Pyspark and appropriate files"
      ],
      "metadata": {
        "id": "zdqukOfCTM_J"
      }
    },
    {
      "cell_type": "code",
      "source": [
        "#@title Install all the appropriate packages\n",
        "\n",
        "!pip install pyspark\n",
        "!pip install -U -q PyDrive\n",
        "!apt install openjdk-8-jdk-headless -qq"
      ],
      "metadata": {
        "colab": {
          "base_uri": "https://localhost:8080/"
        },
        "id": "U_Z_u2HlRbQG",
        "outputId": "bd22afc2-a21b-4319-9641-c327565755ea"
      },
      "execution_count": null,
      "outputs": [
        {
          "output_type": "stream",
          "name": "stdout",
          "text": [
            "Collecting pyspark\n",
            "  Downloading pyspark-3.5.1.tar.gz (317.0 MB)\n",
            "\u001b[2K     \u001b[90m━━━━━━━━━━━━━━━━━━━━━━━━━━━━━━━━━━━━━━━━\u001b[0m \u001b[32m317.0/317.0 MB\u001b[0m \u001b[31m2.4 MB/s\u001b[0m eta \u001b[36m0:00:00\u001b[0m\n",
            "\u001b[?25h  Preparing metadata (setup.py) ... \u001b[?25l\u001b[?25hdone\n",
            "Requirement already satisfied: py4j==0.10.9.7 in /usr/local/lib/python3.10/dist-packages (from pyspark) (0.10.9.7)\n",
            "Building wheels for collected packages: pyspark\n",
            "  Building wheel for pyspark (setup.py) ... \u001b[?25l\u001b[?25hdone\n",
            "  Created wheel for pyspark: filename=pyspark-3.5.1-py2.py3-none-any.whl size=317488491 sha256=9c16d176ea5dbc77b88c646e48f4e5653f65dae0c77e9f4f80b9bb819c77eb93\n",
            "  Stored in directory: /root/.cache/pip/wheels/80/1d/60/2c256ed38dddce2fdd93be545214a63e02fbd8d74fb0b7f3a6\n",
            "Successfully built pyspark\n",
            "Installing collected packages: pyspark\n",
            "Successfully installed pyspark-3.5.1\n",
            "The following additional packages will be installed:\n",
            "  libxtst6 openjdk-8-jre-headless\n",
            "Suggested packages:\n",
            "  openjdk-8-demo openjdk-8-source libnss-mdns fonts-dejavu-extra fonts-nanum fonts-ipafont-gothic\n",
            "  fonts-ipafont-mincho fonts-wqy-microhei fonts-wqy-zenhei fonts-indic\n",
            "The following NEW packages will be installed:\n",
            "  libxtst6 openjdk-8-jdk-headless openjdk-8-jre-headless\n",
            "0 upgraded, 3 newly installed, 0 to remove and 45 not upgraded.\n",
            "Need to get 39.7 MB of archives.\n",
            "After this operation, 144 MB of additional disk space will be used.\n",
            "Selecting previously unselected package libxtst6:amd64.\n",
            "(Reading database ... 121752 files and directories currently installed.)\n",
            "Preparing to unpack .../libxtst6_2%3a1.2.3-1build4_amd64.deb ...\n",
            "Unpacking libxtst6:amd64 (2:1.2.3-1build4) ...\n",
            "Selecting previously unselected package openjdk-8-jre-headless:amd64.\n",
            "Preparing to unpack .../openjdk-8-jre-headless_8u402-ga-2ubuntu1~22.04_amd64.deb ...\n",
            "Unpacking openjdk-8-jre-headless:amd64 (8u402-ga-2ubuntu1~22.04) ...\n",
            "Selecting previously unselected package openjdk-8-jdk-headless:amd64.\n",
            "Preparing to unpack .../openjdk-8-jdk-headless_8u402-ga-2ubuntu1~22.04_amd64.deb ...\n",
            "Unpacking openjdk-8-jdk-headless:amd64 (8u402-ga-2ubuntu1~22.04) ...\n",
            "Setting up libxtst6:amd64 (2:1.2.3-1build4) ...\n",
            "Setting up openjdk-8-jre-headless:amd64 (8u402-ga-2ubuntu1~22.04) ...\n",
            "update-alternatives: using /usr/lib/jvm/java-8-openjdk-amd64/jre/bin/orbd to provide /usr/bin/orbd (orbd) in auto mode\n",
            "update-alternatives: using /usr/lib/jvm/java-8-openjdk-amd64/jre/bin/servertool to provide /usr/bin/servertool (servertool) in auto mode\n",
            "update-alternatives: using /usr/lib/jvm/java-8-openjdk-amd64/jre/bin/tnameserv to provide /usr/bin/tnameserv (tnameserv) in auto mode\n",
            "Setting up openjdk-8-jdk-headless:amd64 (8u402-ga-2ubuntu1~22.04) ...\n",
            "update-alternatives: using /usr/lib/jvm/java-8-openjdk-amd64/bin/clhsdb to provide /usr/bin/clhsdb (clhsdb) in auto mode\n",
            "update-alternatives: using /usr/lib/jvm/java-8-openjdk-amd64/bin/extcheck to provide /usr/bin/extcheck (extcheck) in auto mode\n",
            "update-alternatives: using /usr/lib/jvm/java-8-openjdk-amd64/bin/hsdb to provide /usr/bin/hsdb (hsdb) in auto mode\n",
            "update-alternatives: using /usr/lib/jvm/java-8-openjdk-amd64/bin/idlj to provide /usr/bin/idlj (idlj) in auto mode\n",
            "update-alternatives: using /usr/lib/jvm/java-8-openjdk-amd64/bin/javah to provide /usr/bin/javah (javah) in auto mode\n",
            "update-alternatives: using /usr/lib/jvm/java-8-openjdk-amd64/bin/jhat to provide /usr/bin/jhat (jhat) in auto mode\n",
            "update-alternatives: using /usr/lib/jvm/java-8-openjdk-amd64/bin/jsadebugd to provide /usr/bin/jsadebugd (jsadebugd) in auto mode\n",
            "update-alternatives: using /usr/lib/jvm/java-8-openjdk-amd64/bin/native2ascii to provide /usr/bin/native2ascii (native2ascii) in auto mode\n",
            "update-alternatives: using /usr/lib/jvm/java-8-openjdk-amd64/bin/schemagen to provide /usr/bin/schemagen (schemagen) in auto mode\n",
            "update-alternatives: using /usr/lib/jvm/java-8-openjdk-amd64/bin/wsgen to provide /usr/bin/wsgen (wsgen) in auto mode\n",
            "update-alternatives: using /usr/lib/jvm/java-8-openjdk-amd64/bin/wsimport to provide /usr/bin/wsimport (wsimport) in auto mode\n",
            "update-alternatives: using /usr/lib/jvm/java-8-openjdk-amd64/bin/xjc to provide /usr/bin/xjc (xjc) in auto mode\n",
            "Processing triggers for libc-bin (2.35-0ubuntu3.4) ...\n",
            "/sbin/ldconfig.real: /usr/local/lib/libtbbmalloc_proxy.so.2 is not a symbolic link\n",
            "\n",
            "/sbin/ldconfig.real: /usr/local/lib/libtbbbind.so.3 is not a symbolic link\n",
            "\n",
            "/sbin/ldconfig.real: /usr/local/lib/libtbbmalloc.so.2 is not a symbolic link\n",
            "\n",
            "/sbin/ldconfig.real: /usr/local/lib/libtbb.so.12 is not a symbolic link\n",
            "\n",
            "/sbin/ldconfig.real: /usr/local/lib/libtbbbind_2_5.so.3 is not a symbolic link\n",
            "\n",
            "/sbin/ldconfig.real: /usr/local/lib/libtbbbind_2_0.so.3 is not a symbolic link\n",
            "\n"
          ]
        }
      ]
    },
    {
      "cell_type": "code",
      "source": [
        "#@title Import and create Spark Context\n",
        "\n",
        "# Let's import the libraries we will need\n",
        "import itertools\n",
        "\n",
        "import pyspark\n",
        "from pyspark.sql import *\n",
        "from pyspark.sql.functions import *\n",
        "from pyspark import SparkContext, SparkConf\n",
        "import os\n",
        "os.environ[\"JAVA_HOME\"] = \"/usr/lib/jvm/java-8-openjdk-amd64\"\n",
        "\n",
        "# create the session\n",
        "conf = SparkConf().set(\"spark.ui.port\", \"4050\")\n",
        "\n",
        "# create the context\n",
        "sc = pyspark.SparkContext(conf=conf)\n",
        "spark = SparkSession.builder.getOrCreate()"
      ],
      "metadata": {
        "id": "REUk4qoeY6Ng"
      },
      "execution_count": null,
      "outputs": []
    },
    {
      "cell_type": "code",
      "source": [
        "from pyspark import SparkFiles"
      ],
      "metadata": {
        "id": "yn1lHhEWc6ka"
      },
      "execution_count": null,
      "outputs": []
    },
    {
      "cell_type": "code",
      "source": [
        "from pyspark.sql.functions import year, col"
      ],
      "metadata": {
        "id": "QvhWVLZDh5Wo"
      },
      "execution_count": null,
      "outputs": []
    },
    {
      "cell_type": "code",
      "source": [
        "# URL of the CSV file\n",
        "url = \"https://storage.googleapis.com/cs7280-proj3/redfin.csv\""
      ],
      "metadata": {
        "id": "7BCMG23ic9Ht"
      },
      "execution_count": null,
      "outputs": []
    },
    {
      "cell_type": "code",
      "source": [
        "sc.addFile(url)"
      ],
      "metadata": {
        "id": "rqAm_KEyc_zk"
      },
      "execution_count": null,
      "outputs": []
    },
    {
      "cell_type": "code",
      "source": [
        "path = SparkFiles.get(\"redfin.csv\")"
      ],
      "metadata": {
        "id": "hXCnhAB6dB0Q"
      },
      "execution_count": null,
      "outputs": []
    },
    {
      "cell_type": "code",
      "source": [
        "df = spark.read.csv(\"file://\"+ path, header=True, inferSchema=True)"
      ],
      "metadata": {
        "id": "guUqqgANWDYp"
      },
      "execution_count": null,
      "outputs": []
    },
    {
      "cell_type": "code",
      "source": [
        "df.show()"
      ],
      "metadata": {
        "colab": {
          "base_uri": "https://localhost:8080/"
        },
        "id": "cS_yhxe-diDo",
        "outputId": "0949ecf9-4a63-4ac9-bacb-e827b9176477"
      },
      "execution_count": null,
      "outputs": [
        {
          "output_type": "stream",
          "name": "stdout",
          "text": [
            "+------------+----------+---------------+-----------+--------------+--------+----------------------+--------------------+------------------+-------------+----------+--------------------+----------------+-----------------+---------------------+---------------------+-----------------+---------------------+---------------------+------------------+-------------------+-------------------+------------------+--------------------+--------------------+----------+-------------------+-------------------+-------------+-------------------+-------------------+------------+-------------------+-------------------+---------+-------------------+-------------------+----------------+--------------------+--------------------+----------+--------------+--------------+------------------+--------------------+--------------------+------------------+-------------------+-------------------+------------------+-------------------+-------------------+-----------------------+---------------------------+---------------------------+--------------------+------------------------------+-------------------+\n",
            "|period_begin|period_end|period_duration|region_type|region_type_id|table_id|is_seasonally_adjusted|              region|              city|        state|state_code|       property_type|property_type_id|median_sale_price|median_sale_price_mom|median_sale_price_yoy|median_list_price|median_list_price_mom|median_list_price_yoy|       median_ppsf|    median_ppsf_mom|    median_ppsf_yoy|  median_list_ppsf|median_list_ppsf_mom|median_list_ppsf_yoy|homes_sold|     homes_sold_mom|     homes_sold_yoy|pending_sales|  pending_sales_mom|  pending_sales_yoy|new_listings|   new_listings_mom|   new_listings_yoy|inventory|      inventory_mom|      inventory_yoy|months_of_supply|months_of_supply_mom|months_of_supply_yoy|median_dom|median_dom_mom|median_dom_yoy|  avg_sale_to_list|avg_sale_to_list_mom|avg_sale_to_list_yoy|   sold_above_list|sold_above_list_mom|sold_above_list_yoy|       price_drops|    price_drops_mom|    price_drops_yoy|off_market_in_two_weeks|off_market_in_two_weeks_mom|off_market_in_two_weeks_yoy| parent_metro_region|parent_metro_region_metro_code|       last_updated|\n",
            "+------------+----------+---------------+-----------+--------------+--------+----------------------+--------------------+------------------+-------------+----------+--------------------+----------------+-----------------+---------------------+---------------------+-----------------+---------------------+---------------------+------------------+-------------------+-------------------+------------------+--------------------+--------------------+----------+-------------------+-------------------+-------------+-------------------+-------------------+------------+-------------------+-------------------+---------+-------------------+-------------------+----------------+--------------------+--------------------+----------+--------------+--------------+------------------+--------------------+--------------------+------------------+-------------------+-------------------+------------------+-------------------+-------------------+-----------------------+---------------------------+---------------------------+--------------------+------------------------------+-------------------+\n",
            "|  2021-02-01|2021-02-28|             30|      place|             6|    5779|                     f|       Fair Lawn, NJ|         Fair Lawn|   New Jersey|        NJ|Single Family Res...|               6|         542500.0|   0.2137823022709475|   0.3596491228070175|         469000.0|  -0.1471176577559556|    0.044543429844098|278.13724761674206|-0.0312571926938843|-0.0045912229601665|291.19741100323625| -0.0253148692018819| -0.0242079877535414|      20.0|-0.4117647058823529| 0.4285714285714286|         14.0|-0.2631578947368421| 0.2727272727272727|        25.0| 0.7857142857142858|-0.3902439024390244|     69.0|                0.0|-0.3490566037735849|             3.5|                 1.5|                -4.1|      91.0|           8.0|          -2.0|               1.0| -0.0121431598112655|  0.0204019194320013|               0.0|-0.2058823529411764|-0.1428571428571428|0.0869565217391304| -0.072463768115942| 0.0397867104183757|     0.2142857142857142|         0.1090225563909774|        -0.0584415584415584|        New York, NY|                         35614|2024-03-10 14:36:40|\n",
            "|  2019-04-01|2019-04-30|             30|      place|             6|    6504|                     f|          Elyria, OH|            Elyria|         Ohio|        OH|Multi-Family (2-4...|               4|          30000.0|  -0.7014925373134328|  -0.6557165399512265|         110000.0|   -0.042645778938207|  -0.0654205607476635|18.610421836228287|-0.6026777101693752|-0.5572373301855637| 81.52173913043478|  0.0042869822603521|  0.0053273758377727|       3.0|                0.5|                0.5|          2.0|               NULL|                1.0|         4.0|                3.0| 0.3333333333333332|      7.0|                0.0|               -0.5|             2.3| -1.2000000000000002|                -4.7|     130.0|        -149.0|          33.0| 0.860358532597008| -0.0260056697505424|  0.0079971422635473|               0.0|                0.0|                0.0|              NULL|               NULL|               NULL|                    1.0|                       NULL|                        1.0|       Cleveland, OH|                         17460|2024-03-10 14:36:40|\n",
            "|  2020-08-01|2020-08-31|             30|      place|             6|   24459|                     f|Northwest Harwich...| Northwest Harwich|Massachusetts|        MA|Single Family Res...|               6|         625000.0|   0.3789299503585217|  -0.1461748633879781|         649000.0|   0.2601941747572815|   0.4266871839964827|340.65934065934067| 0.1234806010316216| 0.3128415300546447| 393.0817610062893|  0.2546073635603787|  0.1804257087275955|      11.0| 0.2222222222222223| 2.6666666666666665|          8.0|-0.4285714285714286|                1.0|        14.0| 0.5555555555555555| 0.0769230769230768|     14.0| 0.0769230769230768|-0.7407407407407407|             1.3| -0.0999999999999998|               -16.7|      26.0|         -51.0|          12.0|0.9771452130091351|  0.0225992687403042| -0.0270982971712778|0.1818181818181818| 0.0707070707070707|-0.4848484848484848|0.2857142857142857|-0.0989010989010989| 0.0079365079365079|                    0.5|         0.4285714285714286|                        0.5| Barnstable Town, MA|                         12700|2024-03-10 14:36:40|\n",
            "|  2018-11-01|2018-11-30|             30|      place|             6|   35672|                     f|        Mannford, OK|          Mannford|     Oklahoma|        OK|Single Family Res...|               6|         145550.0|  -0.1732931955015335|  -0.2298941798941799|         139500.0|   0.0223525100769512|  -0.5271186440677966| 86.04705739668293|-0.2375530545878501|-0.0270946043681715| 81.43607705779334|  0.1833756752418154| -0.1279438392353587|       6.0| 0.1999999999999999|                1.0|          5.0| 0.6666666666666667|                1.5|         5.0|-0.1666666666666666| 0.6666666666666667|     15.0|            -0.0625|                0.0|             2.5| -0.7000000000000001|                -2.5|      41.0|           2.0|         -43.0|0.9986162103468218|  0.0060012513188634|  0.0312724798860968|0.3333333333333333| 0.3333333333333333| 0.3333333333333333|               0.2|-0.1749999999999999| 0.1333333333333333|                    0.8|                        0.8|                        0.8|           Tulsa, OK|                         46140|2024-03-10 14:36:40|\n",
            "|  2013-02-01|2013-02-28|             30|      place|             6|   22064|                     f|      Claryville, KY|        Claryville|     Kentucky|        KY|Single Family Res...|               6|         155500.0|   0.1582867783985102|  -0.0985063032091436|         207951.0|                 NULL|    0.256501510574018| 80.11474255416097| 0.2281276735676967|-0.3203944730727904| 96.94339082028051|                NULL| -0.1740774558513864|       4.0|                3.0|                1.0|          3.0|               NULL|                2.0|         8.0|               NULL|                3.0|     19.0|             0.1875| 0.5833333333333331|             4.8|               -11.2| -1.2000000000000002|      81.0|         -60.0|           4.0| 0.993087186825862|  0.0476646516145943|  -0.006912813174138|              0.25|               0.25|               0.25|              NULL|               NULL|               NULL|     0.3333333333333333|                       NULL|        -0.6666666666666667|      Cincinnati, OH|                         17140|2024-03-10 14:36:40|\n",
            "|  2021-09-01|2021-09-30|             30|      place|             6|    8474|                     f|        Hopewell, NJ|          Hopewell|   New Jersey|        NJ|Single Family Res...|               6|         393500.0|  -0.3330508474576271|   0.0549597855227881|        1199000.0|                 NULL|   0.3982507288629737|  260.079312623926| -0.101284215692462|-0.0821745934520885|305.20327725265497|                NULL|  0.1157969275903516|       3.0|              -0.25|               -0.4|          2.0|               NULL|                1.0|         5.0|               NULL|                1.5|     15.0| 0.1538461538461537|               0.25|             5.0|  1.7000000000000002|                 2.6|      81.0|          55.0|          16.0|0.9205824876884016| -0.1217057276460643| -0.0617186226923861|               0.0|              -0.75|               -0.4|0.1333333333333333|-0.1743589743589743|-0.1999999999999999|                    0.0|                       NULL|                        0.0|         Trenton, NJ|                         45940|2024-03-10 14:36:40|\n",
            "|  2021-08-01|2021-08-31|             30|      place|             6|   19396|                     f|      Thornville, OH|        Thornville|         Ohio|        OH|     All Residential|              -1|         225000.0|   0.1842105263157893|   0.5679442508710801|         192450.0|  -0.3635912698412698|   0.0196026490066225|131.80639585133966|  0.009655595505059| 0.2560569244902506|122.52404384288198|  -0.301402751889694|  0.1336386736787902|       9.0|               1.25|                2.0|          8.0|                0.6|                1.0|         6.0|                0.0|              -0.25|      9.0|-0.1818181818181817|-0.3076923076923077|             1.0| -1.7999999999999998|                -3.3|      38.0|         -18.0|         -31.0|1.0965002132121302|  0.0871079037421027|  0.2064856387399768|0.6666666666666666| 0.4166666666666666| 0.3333333333333333|0.2222222222222222|-0.1414141414141414| 0.1452991452991452|                  0.375|                     -0.025|                      0.125|        Columbus, OH|                         18140|2024-03-10 14:36:40|\n",
            "|  2012-12-01|2012-12-31|             30|      place|             6|   33136|                     f|   Lake Poinsett, SD|     Lake Poinsett| South Dakota|        SD|Single Family Res...|               6|          61000.0|                 NULL|                 NULL|             NULL|                 NULL|                 NULL| 63.54166666666666|               NULL|               NULL|              NULL|                NULL|                NULL|       1.0|               NULL|               NULL|         NULL|               NULL|               NULL|        NULL|               NULL|               NULL|      2.0|               NULL|               NULL|             2.0|                NULL|                NULL|     105.0|          NULL|          NULL|  0.71849234393404|                NULL|                NULL|               0.0|               NULL|               NULL|              NULL|               NULL|               NULL|                   NULL|                       NULL|                       NULL|       Watertown, SD|                         47980|2024-03-10 14:36:40|\n",
            "|  2012-11-01|2012-11-30|             30|      place|             6|   11574|                     f|      Loganville, WI|        Loganville|    Wisconsin|        WI|     All Residential|              -1|          73500.0|                 NULL|                 NULL|             NULL|                 NULL|                 NULL|            65.625|               NULL|               NULL|              NULL|                NULL|                NULL|       1.0|               NULL|               NULL|         NULL|               NULL|               NULL|        NULL|               NULL|               NULL|      6.0|               NULL|               NULL|             6.0|                NULL|                NULL|     323.0|          NULL|          NULL|0.9198998748435544|                NULL|                NULL|               0.0|               NULL|               NULL|              NULL|               NULL|               NULL|                   NULL|                       NULL|                       NULL|         Baraboo, WI|                         12660|2024-03-10 14:36:40|\n",
            "|  2017-06-01|2017-06-30|             30|      place|             6|   18344|                     f|       Souderton, PA|         Souderton| Pennsylvania|        PA|Single Family Res...|               6|         237000.0|   -0.098687963491158|  -0.2354838709677419|         249990.0|  -0.0384630178083772|  -0.0909123968144296|153.09679427326486| 0.0481997155660709| 0.0385888979247612|156.86274509803923|  0.1467628344009264|  0.1045651110558618|      10.0|               0.25|-0.0909090909090909|          7.0|-0.2222222222222222| 1.3333333333333337|         8.0| 0.3333333333333332|-0.4285714285714286|     13.0|                0.0|-0.6486486486486486|             1.3|                -0.3|                -2.1|      29.0|         -32.0|         -20.0|0.9920225126852296|  0.0193143926004077| -0.0016724780165323|               0.1|-0.0249999999999999|-0.0818181818181818|0.3846153846153846| 0.0769230769230769| 0.0873180873180873|     0.4285714285714285|         -0.126984126984127|         -0.238095238095238|Montgomery County...|                         33874|2024-03-10 14:36:40|\n",
            "|  2016-09-01|2016-09-30|             30|      place|             6|   19657|                     f|    Turtle Creek, PA|      Turtle Creek| Pennsylvania|        PA|     All Residential|              -1|          37000.0|  -0.3235831809872029|   0.8271604938271603|          63200.0|  -0.1684210526315789|   0.3180396246089676| 25.32051282051282| -0.381636999401952| 0.5643029913770722|51.501084737110766| -0.1898670365068709|   0.761107068350313|      11.0|              0.375|               1.75|          4.0| 0.3333333333333332|                3.0|         8.0| 0.3333333333333332|                1.0|     35.0| -0.054054054054054|               NULL|             3.2| -1.3999999999999997|                -9.1|     130.0|         -49.0|          11.0|0.9305297357065028|  0.0789973296175524|  0.0343464548943841|0.1818181818181818| 0.1818181818181818|-0.3181818181818181|0.3428571428571428|-0.0084942084942085|-0.0448979591836734|                    0.0|                        0.0|                        0.0|      Pittsburgh, PA|                         38300|2024-03-10 14:36:40|\n",
            "|  2022-06-01|2022-06-30|             30|      place|             6|   23687|                     f|         Latimer, MS|           Latimer|  Mississippi|        MS|Single Family Res...|               6|         240000.0|    0.411764705882353|  -0.1074748977314986|         293400.0|   0.1844973758578927|   0.0426439232409381|137.64663503466966| 0.1173668020461418| 0.1043050947269497|133.91290227136162| -0.1068223720337881|  0.0319829097118347|       6.0|                5.0|-0.5384615384615384|          5.0|             -0.375|               -0.5|         9.0|              0.125|-0.3571428571428571|     14.0| 0.3999999999999999|              -0.65|             2.3|                -7.7| -0.8000000000000002|       5.0|          NULL|         -64.0|0.9803170383636008| -0.0197417886262222| -0.0368951251123884|0.1666666666666666|-0.8333333333333333|-0.2179487179487179|0.3571428571428571|-0.0428571428571428|               NULL|     0.5999999999999999|         0.0999999999999999|         0.5999999999999999|        Gulfport, MS|                         25060|2024-03-10 14:36:40|\n",
            "|  2024-02-01|2024-02-29|             30|      place|             6|   19865|                     f|University Height...|University Heights|         Ohio|        OH|Multi-Family (2-4...|               4|         149900.0|                 NULL|                 NULL|         239900.0|                 NULL|                 NULL| 50.60769750168805|               NULL|               NULL|163.20474777448072|                NULL|                NULL|       1.0|               NULL|               NULL|          1.0|               NULL|               NULL|         1.0|               NULL|               NULL|     NULL|               NULL|               NULL|            NULL|                NULL|                NULL|     187.0|          NULL|          NULL|               1.0|                NULL|                NULL|               0.0|               NULL|               NULL|              NULL|               NULL|               NULL|                    0.0|                       NULL|                       NULL|       Cleveland, OH|                         17460|2024-03-10 14:36:40|\n",
            "|  2013-07-01|2013-07-31|             30|      place|             6|   24310|                     f|         Metzger, OR|           Metzger|       Oregon|        OR|Single Family Res...|               6|         308000.0|  -0.0064516129032258|   0.1846153846153846|         318950.0|   0.1598181818181818|   0.3289583333333332| 151.8494484101233|-0.1212773036165453|   0.06449037054961| 162.3600210524761| -0.0605538202798822|  0.2447601614023167|       7.0| 0.3999999999999999| 0.3999999999999999|          7.0|-0.2222222222222222| 1.3333333333333337|         7.0| 0.1666666666666667| 0.3999999999999999|     11.0|                0.0| 0.2222222222222223|             1.6|                -0.6| -0.1999999999999999|      26.0|          18.0|         -76.0|0.9757909787975064| -0.0124155208433396| -0.0270903558454349|0.2857142857142857|-0.1142857142857143|-0.1142857142857143|0.4545454545454545| 0.0909090909090908| 0.2323232323232323|     0.2857142857142857|        -0.0476190476190476|        -0.0476190476190476|        Portland, OR|                         38900|2024-03-10 14:36:40|\n",
            "|  2023-03-01|2023-03-31|             30|      place|             6|    6038|                     f|  East Cleveland, OH|    East Cleveland|         Ohio|        OH|     All Residential|              -1|          50500.0|  -0.1984126984126983|             0.578125|          39500.0|   -0.341655694261571|  -0.2644320297951583|33.479692645444565| 0.0546103183315038| 0.4187019758507135| 21.21374865735768| -0.0885043404764839| -0.3393947448893912|       7.0|                0.0|                6.0|          3.0|               -0.5|              -0.25|        11.0| 1.2000000000000002|                0.1|     38.0| 0.1176470588235294| 0.0555555555555555|             5.4|                 0.5|               -30.6|     146.0|          74.0|         114.0|0.8552452732512714| -0.0305290711098162| -0.0590404410344428|0.1428571428571428|                0.0| 0.1428571428571428|0.6052631578947368| 0.2229102167182662| 0.2719298245614035|     0.6666666666666666|                        0.5|         0.4166666666666666|       Cleveland, OH|                         17460|2024-03-10 14:36:40|\n",
            "|  2017-07-01|2017-07-31|             30|      place|             6|   13126|                     f|     Moores Hill, IN|       Moores Hill|      Indiana|        IN|Single Family Res...|               6|         212000.0|   0.5142857142857142|    4.306500463067257|         207400.0|   1.3303370786516853|                 NULL| 70.98307098307099|-0.4041390035178854| 1.4465892904730482|104.11142485677011|  2.5106065283631653|                NULL|       2.0|-0.3333333333333333|-0.3333333333333333|          1.0|                0.0|               NULL|         4.0| 0.3333333333333332|               NULL|      9.0| 0.2857142857142858|                0.0|             4.5|                 2.2|                 1.5|     108.0|        -118.0|         -43.0|0.9787082023435268|  0.0260968490262867|  0.0991091880066091|               0.0|-0.3333333333333333|                0.0|0.2222222222222222| 0.0793650793650793| 0.1111111111111111|                    0.0|                        0.0|                       NULL|      Cincinnati, OH|                         17140|2024-03-10 14:36:40|\n",
            "|  2012-07-01|2012-07-31|             30|      place|             6|   19463|                     f|          Urbana, IL|            Urbana|     Illinois|        IL|Single Family Res...|               6|         134500.0|  -0.0594405594405594|  -0.0392857142857142|         106950.0|  -0.2773648648648648|  -0.1437149719775821| 87.48910403322168|-0.1001911768735112|-0.0963104629235144| 83.77888373229115| -0.1116896024956465|  0.0142007382163669|      33.0|-0.1081081081081081| -0.131578947368421|         11.0|              -0.56|-0.2666666666666667|        35.0| 0.0294117647058822| -0.054054054054054|    176.0| 0.0173410404624276|-0.1020408163265306|             5.3|  0.5999999999999996|  0.0999999999999996|      98.0|          22.0|          48.0| 0.933456116040644| -0.0245988226234384| -0.0242480975452845|0.0606060606060606|-0.0204750204750204| 0.0342902711323763|              NULL|               NULL|               NULL|     0.3636363636363636|         0.1636363636363636|         0.2969696969696969|       Champaign, IL|                         16580|2024-03-10 14:36:40|\n",
            "|  2012-01-01|2012-01-31|             30|      place|             6|    2798|                     f|         Bronson, MI|           Bronson|     Michigan|        MI|Single Family Res...|               6|          25000.0|  -0.1935483870967742|  -0.1935483870967742|          34900.0|    -0.22271714922049|  -0.4934687953555878|13.666666666666666|-0.5556129032258064|-0.4886021505376344|29.080675422138835| -0.3523234872574869| -0.6201363152405667|       3.0|                0.0|               -0.4|          1.0|-0.6666666666666667|                0.0|         5.0|                4.0|                0.0|     22.0| 0.0476190476190476| 0.0476190476190476|             7.3|  0.2999999999999998|                 3.1|     105.0|          43.0|         -37.0|1.1089666922654045|  0.1574318240638695|  0.2950784622439117|0.6666666666666666| 0.6666666666666666| 0.6666666666666666|              NULL|               NULL|               NULL|                    0.0|                        0.0|                        0.0|       Coldwater, MI|                         17740|2024-03-10 14:36:40|\n",
            "|  2020-10-01|2020-10-31|             30|      place|             6|    8972|                     f|      Huntertown, IN|        Huntertown|      Indiana|        IN|         Condo/Co-op|               3|         278500.0|   0.7308887507768799|   0.2108695652173913|         215000.0|                 NULL|  -0.1224489795918367|128.80127819245797| 0.1479243811559025| 0.0259301810807957|128.84450171821305|                NULL|  0.0938890382383157|       2.0|                1.0|                1.0|          1.0|               NULL|                0.0|         1.0|               NULL|               -0.8|      1.0|               -0.5|-0.8571428571428572|             0.5|                -1.5|                -6.5|     106.0|          NULL|          28.0|0.9876972710250272| -0.0123027289749727|  0.0289644656894707|               0.0|                0.0|                0.0|              NULL|               NULL|               NULL|                    0.0|                       NULL|                        0.0|      Fort Wayne, IN|                         23060|2024-03-10 14:36:40|\n",
            "|  2022-01-01|2022-01-31|             30|      place|             6|     581|                     f|     Apple Creek, OH|       Apple Creek|         Ohio|        OH|Single Family Res...|               6|         150000.0|  -0.3813157352031346|  -0.3023255813953488|         132000.0|  -0.0571361224008742|   0.1143942591810891|109.48905109489051| -0.279563939957285|-0.0874214904090986|131.47410358565736|  0.2865772034968148|  0.1224911340068244|       1.0|               -0.5|                0.0|          2.0|               NULL|                0.0|         1.0|                0.0|               -0.5|     NULL|               NULL|               NULL|            NULL|                NULL|                NULL|      28.0|          21.0|          15.0|1.0714362245444613|  0.0489818003559328|  0.1158806689889054|               1.0|                0.5|                1.0|              NULL|               NULL|               NULL|                    0.5|                       NULL|                       -0.5|         Wooster, OH|                         49300|2024-03-10 14:36:40|\n",
            "+------------+----------+---------------+-----------+--------------+--------+----------------------+--------------------+------------------+-------------+----------+--------------------+----------------+-----------------+---------------------+---------------------+-----------------+---------------------+---------------------+------------------+-------------------+-------------------+------------------+--------------------+--------------------+----------+-------------------+-------------------+-------------+-------------------+-------------------+------------+-------------------+-------------------+---------+-------------------+-------------------+----------------+--------------------+--------------------+----------+--------------+--------------+------------------+--------------------+--------------------+------------------+-------------------+-------------------+------------------+-------------------+-------------------+-----------------------+---------------------------+---------------------------+--------------------+------------------------------+-------------------+\n",
            "only showing top 20 rows\n",
            "\n"
          ]
        }
      ]
    },
    {
      "cell_type": "code",
      "source": [
        "distinct_states_df = df.select(col(\"state\"), col(\"state_code\")).distinct()"
      ],
      "metadata": {
        "id": "JbQJuQ3A5lhx"
      },
      "execution_count": null,
      "outputs": []
    },
    {
      "cell_type": "code",
      "source": [
        "distinct_states_df.show(distinct_states_df.count(), truncate=False)"
      ],
      "metadata": {
        "id": "1l9cNaUR5vcA"
      },
      "execution_count": null,
      "outputs": []
    },
    {
      "cell_type": "code",
      "source": [
        "sold_inventory = df.select(year(\"period_begin\").alias(\"year\"), \"homes_sold\", \"inventory\", \"state\")"
      ],
      "metadata": {
        "id": "gYhOdgxeVDE5"
      },
      "execution_count": null,
      "outputs": []
    },
    {
      "cell_type": "code",
      "source": [
        "sold_inventory = sold_inventory.withColumn(\"difference\", col(\"inventory\") - col(\"homes_sold\"))"
      ],
      "metadata": {
        "id": "jb--aniunDCt"
      },
      "execution_count": null,
      "outputs": []
    },
    {
      "cell_type": "code",
      "source": [
        "sold_inventory = sold_inventory.na.drop(subset=[\"difference\"])"
      ],
      "metadata": {
        "id": "TVGo2ClIp94c"
      },
      "execution_count": null,
      "outputs": []
    },
    {
      "cell_type": "code",
      "source": [
        "sold_inventory.show()"
      ],
      "metadata": {
        "id": "G7CoWwx8mzq-"
      },
      "execution_count": null,
      "outputs": []
    },
    {
      "cell_type": "code",
      "source": [
        "sold_inventory = sold_inventory.rdd"
      ],
      "metadata": {
        "id": "2DbOvUHfo18K"
      },
      "execution_count": null,
      "outputs": []
    },
    {
      "cell_type": "code",
      "source": [
        "sold_inventory.take(5)"
      ],
      "metadata": {
        "id": "IOezXFFQqldC"
      },
      "execution_count": null,
      "outputs": []
    },
    {
      "cell_type": "code",
      "source": [
        "# sort by year and sort by differences\n",
        "sorted_sold_inventory = sold_inventory.sortBy(lambda x: (x[0], -x[4]))"
      ],
      "metadata": {
        "id": "Swij0_LPpQRZ"
      },
      "execution_count": null,
      "outputs": []
    },
    {
      "cell_type": "code",
      "source": [
        "sorted_sold_inventory.take(5)"
      ],
      "metadata": {
        "id": "wlpB3b2EpYT9"
      },
      "execution_count": null,
      "outputs": []
    },
    {
      "cell_type": "code",
      "source": [
        "grouped_by_year_state = sorted_sold_inventory.map(lambda x: ((x[0], x[3]), (x[4], 1))).reduceByKey(lambda x, y: (x[0]+y[0], x[1] + y[1])).mapValues(lambda x: (x[0] / x[1])).map(lambda x:( x[0][0], x[0][1],x[1]))"
      ],
      "metadata": {
        "id": "EKTcy8yZrnMi"
      },
      "execution_count": null,
      "outputs": []
    },
    {
      "cell_type": "code",
      "source": [
        "grouped_by_year_state.take(10)"
      ],
      "metadata": {
        "id": "2zCFuVLRtb9b"
      },
      "execution_count": null,
      "outputs": []
    },
    {
      "cell_type": "code",
      "source": [
        "# Take the top 5 differences for each year\n",
        "top_5_by_year = grouped_by_year_state.groupBy(lambda x: x[0]).flatMapValues(lambda x: sorted(x, key=lambda y: -y[2])[:5]).map(lambda x: (x[0], x[1][1], x[1][2]))"
      ],
      "metadata": {
        "id": "JFL-DWRz28lz"
      },
      "execution_count": null,
      "outputs": []
    },
    {
      "cell_type": "code",
      "source": [
        "top_5_by_year.collect()"
      ],
      "metadata": {
        "id": "gudLN6gT2_Qp"
      },
      "execution_count": null,
      "outputs": []
    },
    {
      "cell_type": "code",
      "source": [
        "# Take the bottom 5 differences for each year\n",
        "bottom_5_by_year = grouped_by_year_state.groupBy(lambda x: x[0]).flatMapValues(lambda x: sorted(x, key=lambda y: -y[2])[-5:-1]).map(lambda x: (x[0], x[1][1], x[1][2]))"
      ],
      "metadata": {
        "id": "8aIdZgMo9jqA"
      },
      "execution_count": null,
      "outputs": []
    },
    {
      "cell_type": "code",
      "source": [],
      "metadata": {
        "id": "DuBJtXF19tj5"
      },
      "execution_count": null,
      "outputs": []
    },
    {
      "cell_type": "code",
      "source": [
        "# import matplotlib.pyplot as plt\n",
        "\n",
        "# # Collect the data from the RDD\n",
        "# data = top_5_by_year.collect()\n",
        "\n",
        "# # Prepare data for plotting\n",
        "# years = [row[0] for row in data]\n",
        "# states = [row[1] for row in data]\n",
        "# differences = [row[2] for row in data]\n",
        "\n",
        "# # Plotting\n",
        "# plt.figure(figsize=(10, 6))\n",
        "\n",
        "# # Create a color map for states\n",
        "# cmap = plt.get_cmap('tab10')\n",
        "\n",
        "# # Iterate over each unique state and plot its differences for each year\n",
        "# for i, state in enumerate(sorted(set(states))):\n",
        "#     state_data = [data[j] for j in range(len(data)) if data[j][1] == state]\n",
        "#     years = [row[0] for row in state_data]\n",
        "#     differences = [row[2] for row in state_data]\n",
        "#     plt.scatter(years, differences, label=state, color=cmap(i))\n",
        "\n",
        "# plt.title('Top 5 Differences for Each Year (Color-coded by State)')\n",
        "# plt.xlabel('Year')\n",
        "# plt.ylabel('Difference')\n",
        "# plt.xticks(rotation=45)\n",
        "# plt.legend(title='State', loc='upper left')\n",
        "# plt.tight_layout()\n",
        "# plt.show()"
      ],
      "metadata": {
        "id": "XElKv8_Z70Ui"
      },
      "execution_count": null,
      "outputs": []
    },
    {
      "cell_type": "code",
      "source": [
        "import matplotlib.pyplot as plt\n",
        "import pandas as pd\n",
        "\n",
        "# Define your data\n",
        "data = top_5_by_year.collect()\n",
        "\n",
        "# Create DataFrame\n",
        "df = pd.DataFrame(data, columns=['Year', 'State', 'Value'])\n",
        "\n",
        "# Pivot the data to have states as columns and years as rows\n",
        "pivot_df = df.pivot(index='Year', columns='State', values='Value')\n",
        "\n",
        "# Rank the values in descending order (1 = highest value)\n",
        "ranked_df = pivot_df.rank(axis=1, ascending=False, method='first')\n",
        "\n",
        "# Plotting\n",
        "fig, ax = plt.subplots(figsize=(15, 10))\n",
        "colors = plt.get_cmap('tab10')\n",
        "\n",
        "for column in ranked_df.columns:\n",
        "    line, = ax.plot(ranked_df.index, ranked_df[column], label=column, marker='o', color=colors(ranked_df.columns.tolist().index(column) / len(ranked_df.columns)))\n",
        "    for idx in ranked_df.index:\n",
        "        ax.annotate(f'{pivot_df.at[idx, column]:.0f}',\n",
        "                    xy=(idx, ranked_df.at[idx, column]),\n",
        "                    textcoords=\"offset points\",\n",
        "                    xytext=(0, 5),\n",
        "                    ha='center',\n",
        "                    fontsize=10,\n",
        "                    color=line.get_color())\n",
        "\n",
        "ax.set_xlabel('Year')\n",
        "ax.set_ylabel('Rank')\n",
        "ax.set_title('Top five states with biggest inventory surplus from 2012 to 2024', pad=10, fontsize=22)\n",
        "ax.invert_yaxis()  # Invert y axis so that rank 1 is at the top\n",
        "ax.legend(title='State')\n",
        "\n",
        "# Set y-axis to show only integer ticks\n",
        "ax.yaxis.set_major_locator(plt.MaxNLocator(integer=True))\n",
        "\n",
        "plt.show()"
      ],
      "metadata": {
        "id": "ktqJJlPTZ34a"
      },
      "execution_count": null,
      "outputs": []
    },
    {
      "cell_type": "code",
      "source": [
        "import matplotlib.pyplot as plt\n",
        "import pandas as pd\n",
        "\n",
        "# Define your data\n",
        "data = bottom_5_by_year.collect()\n",
        "\n",
        "# Create DataFrame\n",
        "df = pd.DataFrame(data, columns=['Year', 'State', 'Value'])\n",
        "\n",
        "# Pivot the data to have states as columns and years as rows\n",
        "pivot_df = df.pivot(index='Year', columns='State', values='Value')\n",
        "\n",
        "# Rank the values in descending order (1 = highest value)\n",
        "ranked_df = pivot_df.rank(axis=1, ascending=False, method='first')\n",
        "\n",
        "# Plotting\n",
        "fig, ax = plt.subplots(figsize=(15, 10))\n",
        "colors = plt.get_cmap('tab10')\n",
        "\n",
        "for column in ranked_df.columns:\n",
        "    line, = ax.plot(ranked_df.index, ranked_df[column], label=column, marker='o', color=colors(ranked_df.columns.tolist().index(column) / len(ranked_df.columns)))\n",
        "    for idx in ranked_df.index:\n",
        "        ax.annotate(f'{pivot_df.at[idx, column]:.0f}',\n",
        "                    xy=(idx, ranked_df.at[idx, column]),\n",
        "                    textcoords=\"offset points\",\n",
        "                    xytext=(0, 5),\n",
        "                    ha='center',\n",
        "                    fontsize=10,\n",
        "                    color=line.get_color())\n",
        "\n",
        "ax.set_xlabel('Year')\n",
        "ax.set_ylabel('Rank')\n",
        "ax.set_title('Top five states with biggest inventory surplus from 2012 to 2024', pad=10, fontsize=22)\n",
        "ax.invert_yaxis()  # Invert y axis so that rank 1 is at the top\n",
        "ax.legend(title='State', loc='upper left')\n",
        "\n",
        "# Set y-axis to show only integer ticks\n",
        "ax.yaxis.set_major_locator(plt.MaxNLocator(integer=True))\n",
        "\n",
        "plt.show()"
      ],
      "metadata": {
        "id": "C9jcJRVt96kT"
      },
      "execution_count": null,
      "outputs": []
    },
    {
      "cell_type": "code",
      "source": [
        "spark.stop()"
      ],
      "metadata": {
        "id": "jxicwcSNgh1A"
      },
      "execution_count": null,
      "outputs": []
    }
  ]
}